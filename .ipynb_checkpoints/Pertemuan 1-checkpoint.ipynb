{
 "cells": [
  {
   "cell_type": "code",
   "execution_count": null,
   "metadata": {},
   "outputs": [],
   "source": []
  },
  {
   "cell_type": "markdown",
   "metadata": {},
   "source": [
    "# Latihan "
   ]
  },
  {
   "cell_type": "code",
   "execution_count": 1,
   "metadata": {},
   "outputs": [
    {
     "name": "stdout",
     "output_type": "stream",
     "text": [
      "3786000.0\n"
     ]
    }
   ],
   "source": [
    "harga_buku=100000\n",
    "diskon=40\n",
    "ongkir_pertama=9000\n",
    "ongkir_selanjutnya=3000\n",
    "eksemplar=60\n",
    "\n",
    "harga_setelah_diskon=harga_buku*(100-diskon)/100\n",
    "harga_ongkir=ongkir_pertama+ongkir_selanjutnya*(eksemplar-1)\n",
    "harga_total=harga_setelah_diskon*eksemplar+harga_ongkir\n",
    "\n",
    "print(harga_total)\n"
   ]
  },
  {
   "cell_type": "markdown",
   "metadata": {},
   "source": [
    "# Operator Perbandingan "
   ]
  },
  {
   "cell_type": "code",
   "execution_count": null,
   "metadata": {},
   "outputs": [],
   "source": [
    "x=10\n",
    "y=12\n",
    "\n",
    "print('x>y is',x>y)\n",
    "print('x<y is',x<y)\n"
   ]
  },
  {
   "cell_type": "markdown",
   "metadata": {},
   "source": [
    "# Operator Logika "
   ]
  },
  {
   "cell_type": "code",
   "execution_count": 5,
   "metadata": {},
   "outputs": [
    {
     "name": "stdout",
     "output_type": "stream",
     "text": [
      "x and y is False\n",
      "x or y is True\n",
      "not x is False\n"
     ]
    }
   ],
   "source": [
    "x=5==5\n",
    "y=1>2\n",
    "\n",
    "print('x and y is', x and y)\n",
    "print('x or y is', x or y)\n",
    "print('not x is',not x)"
   ]
  },
  {
   "cell_type": "code",
   "execution_count": 6,
   "metadata": {},
   "outputs": [
    {
     "name": "stdout",
     "output_type": "stream",
     "text": [
      "lulus\n",
      "selamat\n",
      "program selesai\n"
     ]
    }
   ],
   "source": [
    "nilai=95#coba dirubah menjadi 80\n",
    "if nilai>90:\n",
    "    print(\"lulus\")\n",
    "    print(\"selamat\")\n",
    "    \n",
    "print(\"program selesai\")"
   ]
  },
  {
   "cell_type": "code",
   "execution_count": 6,
   "metadata": {},
   "outputs": [
    {
     "name": "stdout",
     "output_type": "stream",
     "text": [
      "maaf anda belum berhasil\n",
      "program selesai\n"
     ]
    }
   ],
   "source": [
    "nilai=80\n",
    "if nilai>90:\n",
    "    print(\"lulus\")\n",
    "    print(\"selamat\")\n",
    "    \n",
    "else:\n",
    "    print(\"maaf anda belum berhasil\")\n",
    "    \n",
    "print(\"program selesai\")"
   ]
  },
  {
   "cell_type": "code",
   "execution_count": 8,
   "metadata": {},
   "outputs": [
    {
     "name": "stdout",
     "output_type": "stream",
     "text": [
      "anda masuk ke waiting list\n",
      "program selesai\n"
     ]
    }
   ],
   "source": [
    "nilai=85\n",
    "if nilai>=90:\n",
    "    print(\"lulus\")\n",
    "    print(\"selamat\")\n",
    "elif nilai>80:\n",
    "    print(\"anda masuk ke waiting list\")\n",
    "else:\n",
    "    print(\"maaf anda belum berhasil\")\n",
    "    \n",
    "print(\"program selesai\")"
   ]
  },
  {
   "cell_type": "code",
   "execution_count": 4,
   "metadata": {},
   "outputs": [
    {
     "ename": "SyntaxError",
     "evalue": "invalid syntax (<ipython-input-4-9837e24afe57>, line 2)",
     "output_type": "error",
     "traceback": [
      "\u001b[1;36m  File \u001b[1;32m\"<ipython-input-4-9837e24afe57>\"\u001b[1;36m, line \u001b[1;32m2\u001b[0m\n\u001b[1;33m    if umur\u001b[0m\n\u001b[1;37m            ^\u001b[0m\n\u001b[1;31mSyntaxError\u001b[0m\u001b[1;31m:\u001b[0m invalid syntax\n"
     ]
    }
   ],
   "source": [
    "if nilai>90:\n",
    "    if umur "
   ]
  },
  {
   "cell_type": "code",
   "execution_count": null,
   "metadata": {},
   "outputs": [],
   "source": []
  }
 ],
 "metadata": {
  "kernelspec": {
   "display_name": "Python 3",
   "language": "python",
   "name": "python3"
  },
  "language_info": {
   "codemirror_mode": {
    "name": "ipython",
    "version": 3
   },
   "file_extension": ".py",
   "mimetype": "text/x-python",
   "name": "python",
   "nbconvert_exporter": "python",
   "pygments_lexer": "ipython3",
   "version": "3.7.0"
  }
 },
 "nbformat": 4,
 "nbformat_minor": 2
}
