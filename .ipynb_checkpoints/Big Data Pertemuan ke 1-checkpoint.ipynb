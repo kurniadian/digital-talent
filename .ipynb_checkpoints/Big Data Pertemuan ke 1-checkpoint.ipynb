{
 "cells": [
  {
   "cell_type": "markdown",
   "metadata": {},
   "source": [
    "# hello world "
   ]
  },
  {
   "cell_type": "code",
   "execution_count": 1,
   "metadata": {},
   "outputs": [
    {
     "name": "stdout",
     "output_type": "stream",
     "text": [
      "Hello world\n"
     ]
    }
   ],
   "source": [
    "print(\"Hello world\")"
   ]
  },
  {
   "cell_type": "markdown",
   "metadata": {},
   "source": [
    "# Variabel"
   ]
  },
  {
   "cell_type": "code",
   "execution_count": 9,
   "metadata": {},
   "outputs": [
    {
     "name": "stdout",
     "output_type": "stream",
     "text": [
      "anak kembar\n"
     ]
    }
   ],
   "source": [
    "nama=\"Dian Kurniasih\"\n",
    "nama=\"Dina Kurniawati\"\n",
    "nama=\"anak kembar\"\n",
    "\n",
    "print(nama)"
   ]
  },
  {
   "cell_type": "code",
   "execution_count": 7,
   "metadata": {},
   "outputs": [
    {
     "name": "stdout",
     "output_type": "stream",
     "text": [
      "5\n",
      "3.2\n",
      "hello\n"
     ]
    }
   ],
   "source": [
    "a,b,c=5,3.2,\"hello\"\n",
    "\n",
    "print(a)\n",
    "print(b)\n",
    "print(c)\n"
   ]
  },
  {
   "cell_type": "code",
   "execution_count": 8,
   "metadata": {},
   "outputs": [
    {
     "name": "stdout",
     "output_type": "stream",
     "text": [
      "podo\n",
      "podo\n",
      "podo\n"
     ]
    }
   ],
   "source": [
    "x=y=z=\"podo\"\n",
    "\n",
    "print(x)\n",
    "print(y)\n",
    "print(z)\n"
   ]
  },
  {
   "cell_type": "markdown",
   "metadata": {},
   "source": [
    "# Tipe Data"
   ]
  },
  {
   "cell_type": "markdown",
   "metadata": {},
   "source": [
    "## Numbers "
   ]
  },
  {
   "cell_type": "code",
   "execution_count": 10,
   "metadata": {},
   "outputs": [
    {
     "name": "stdout",
     "output_type": "stream",
     "text": [
      "5 mempunyai tipe <class 'int'>\n",
      "2.0 mempunyai tipe <class 'float'>\n"
     ]
    }
   ],
   "source": [
    "a=5\n",
    "print(a,\"mempunyai tipe\",type (a))\n",
    "\n",
    "a=2.0\n",
    "print(a,\"mempunyai tipe\",type(a))"
   ]
  },
  {
   "cell_type": "markdown",
   "metadata": {},
   "source": [
    "## Boolean "
   ]
  },
  {
   "cell_type": "code",
   "execution_count": 11,
   "metadata": {},
   "outputs": [
    {
     "name": "stdout",
     "output_type": "stream",
     "text": [
      "False mempunyai tipe <class 'bool'>\n",
      "True mempunyai tipe <class 'bool'>\n"
     ]
    }
   ],
   "source": [
    "a=5>6\n",
    "print(a,\"mempunyai tipe\",type(a))\n",
    "\n",
    "a=6>5\n",
    "print(a,\"mempunyai tipe\",type(a))"
   ]
  },
  {
   "cell_type": "markdown",
   "metadata": {},
   "source": [
    "## String"
   ]
  },
  {
   "cell_type": "code",
   "execution_count": 12,
   "metadata": {},
   "outputs": [
    {
     "name": "stdout",
     "output_type": "stream",
     "text": [
      "Ini adalah sebuah string mempunyai tipe <class 'str'>\n"
     ]
    }
   ],
   "source": [
    "a=\"Ini adalah sebuah string\"\n",
    "print(a,\"mempunyai tipe\",type(a))"
   ]
  },
  {
   "cell_type": "markdown",
   "metadata": {},
   "source": [
    "## List & Tuple & Dictionary "
   ]
  },
  {
   "cell_type": "markdown",
   "metadata": {},
   "source": [
    "# Operator "
   ]
  },
  {
   "cell_type": "markdown",
   "metadata": {},
   "source": [
    "## Operator Aritmatika"
   ]
  },
  {
   "cell_type": "code",
   "execution_count": 13,
   "metadata": {},
   "outputs": [
    {
     "name": "stdout",
     "output_type": "stream",
     "text": [
      "x+y= 19\n",
      "x-y= 11\n",
      "x*y= 60\n",
      "x**y= 50625\n"
     ]
    }
   ],
   "source": [
    "x=15\n",
    "y=4\n",
    "\n",
    "#output:x+y=19\n",
    "print('x+y=',x+y)\n",
    "\n",
    "#output:x-y=11\n",
    "print('x-y=',x-y)\n",
    "\n",
    "#output:x*y=60\n",
    "print('x*y=',x*y)\n",
    "\n",
    "#output:x/y=3.75\n",
    "print:('x/y=',x/y)\n",
    "    \n",
    "#output:x//y=3\n",
    "print:('x//y',x//y)\n",
    "    \n",
    "#output:x**y=50625\n",
    "print('x**y=',x**y)"
   ]
  },
  {
   "cell_type": "markdown",
   "metadata": {},
   "source": [
    "## Operator Assignment"
   ]
  },
  {
   "cell_type": "code",
   "execution_count": 14,
   "metadata": {},
   "outputs": [
    {
     "name": "stdout",
     "output_type": "stream",
     "text": [
      "11\n",
      "55\n",
      "5\n"
     ]
    }
   ],
   "source": [
    "a=5\n",
    "b=2\n",
    "a=a+6\n",
    "print(a)\n",
    "a=a*5\n",
    "print(a)\n",
    "a=b+3\n",
    "print(a)"
   ]
  },
  {
   "cell_type": "markdown",
   "metadata": {},
   "source": [
    "# Latihan"
   ]
  },
  {
   "cell_type": "code",
   "execution_count": 2,
   "metadata": {},
   "outputs": [
    {
     "name": "stdout",
     "output_type": "stream",
     "text": [
      "3786000.0\n"
     ]
    }
   ],
   "source": [
    "harga_buku=100000\n",
    "diskon=40\n",
    "ongkir_pertama=9000\n",
    "ongkir_selanjutnya=3000\n",
    "eksemplar=60\n",
    "\n",
    "harga_setelah_diskon=harga_buku*(100-diskon)/100\n",
    "harga_ongkir=ongkir_pertama+ongkir_selanjutnya*(eksemplar-1)\n",
    "harga_total=harga_setelah_diskon*eksemplar+harga_ongkir\n",
    "\n",
    "print(harga_total)"
   ]
  },
  {
   "cell_type": "markdown",
   "metadata": {},
   "source": [
    "## Operator Perbandingan"
   ]
  },
  {
   "cell_type": "code",
   "execution_count": 3,
   "metadata": {},
   "outputs": [
    {
     "name": "stdout",
     "output_type": "stream",
     "text": [
      "x>y is False\n",
      "x<y is True\n",
      "x==y is False\n",
      "x!=y is True\n",
      "x>=y is True\n",
      "x<=y is True\n"
     ]
    }
   ],
   "source": [
    "x=10\n",
    "y=12\n",
    "\n",
    "print('x>y is',x>y)\n",
    "print('x<y is',x<y)\n",
    "print('x==y is',x==y)\n",
    "print('x!=y is',x!=y)\n",
    "print('x>=y is',x!=y)\n",
    "print('x<=y is',x<=y)"
   ]
  },
  {
   "cell_type": "markdown",
   "metadata": {},
   "source": [
    "##  Operator Logika"
   ]
  },
  {
   "cell_type": "code",
   "execution_count": 4,
   "metadata": {},
   "outputs": [
    {
     "name": "stdout",
     "output_type": "stream",
     "text": [
      "x and y is False\n",
      "x or y is True\n",
      "not x is False\n"
     ]
    }
   ],
   "source": [
    "x=5==5\n",
    "y=1>2\n",
    "\n",
    "print('x and y is',x and y)\n",
    "print('x or y is',x or y)\n",
    "print('not x is',not x)"
   ]
  },
  {
   "cell_type": "markdown",
   "metadata": {},
   "source": [
    "# Statement Kondisi/Percabangan"
   ]
  },
  {
   "cell_type": "code",
   "execution_count": 6,
   "metadata": {},
   "outputs": [
    {
     "name": "stdout",
     "output_type": "stream",
     "text": [
      "Lulus\n",
      "Selamat\n",
      "Program selesai\n"
     ]
    }
   ],
   "source": [
    "nilai=95#coba dirubah menjadi 80\n",
    "if nilai>90:\n",
    "    print(\"Lulus\")\n",
    "    print(\"Selamat\")\n",
    "    \n",
    "print(\"Program selesai\")"
   ]
  },
  {
   "cell_type": "code",
   "execution_count": 8,
   "metadata": {},
   "outputs": [
    {
     "name": "stdout",
     "output_type": "stream",
     "text": [
      "Maaf Anda Belum Berhasil\n",
      "Program Selesai\n"
     ]
    }
   ],
   "source": [
    "nilai=80\n",
    "if nilai>90:\n",
    "    print(\"Lulus\")\n",
    "    print(\"Selamat\")\n",
    "else:\n",
    "    print(\"Maaf Anda Belum Berhasil\")\n",
    "    \n",
    "print(\"Program Selesai\")"
   ]
  },
  {
   "cell_type": "code",
   "execution_count": 9,
   "metadata": {},
   "outputs": [
    {
     "name": "stdout",
     "output_type": "stream",
     "text": [
      "Anda masuk ke waiting list\n",
      "Program Selesai\n"
     ]
    }
   ],
   "source": [
    "nilai=85\n",
    "if nilai>90:\n",
    "    print(\"Lulus\")\n",
    "    print(\"Selamat\")\n",
    "elif nilai>80:\n",
    "    print(\"Anda masuk ke waiting list\")\n",
    "else:\n",
    "    print(\"Maaf Anda Belum Berhasil\")\n",
    "    \n",
    "print(\"Program Selesai\")"
   ]
  },
  {
   "cell_type": "code",
   "execution_count": 11,
   "metadata": {},
   "outputs": [
    {
     "name": "stdout",
     "output_type": "stream",
     "text": [
      "Maaf, Anda Belum Berhak Mengikuti Program Beasiswa\n",
      "Program Selesai\n"
     ]
    }
   ],
   "source": [
    "nilai=95\n",
    "umur=10\n",
    "\n",
    "if nilai>90:\n",
    "    if umur>17:\n",
    "        print(\"Selamat Anda Berhak MEngikuti Program Beasiswa\")\n",
    "    else:\n",
    "        print(\"Maaf, Anda Belum Berhak Mengikuti Program Beasiswa\")\n",
    "else:\n",
    "    print(\"Maaf Anda Belum Berhasil\")\n",
    "    \n",
    "print(\"Program Selesai\")"
   ]
  },
  {
   "cell_type": "code",
   "execution_count": null,
   "metadata": {},
   "outputs": [],
   "source": []
  }
 ],
 "metadata": {
  "kernelspec": {
   "display_name": "Python 3",
   "language": "python",
   "name": "python3"
  },
  "language_info": {
   "codemirror_mode": {
    "name": "ipython",
    "version": 3
   },
   "file_extension": ".py",
   "mimetype": "text/x-python",
   "name": "python",
   "nbconvert_exporter": "python",
   "pygments_lexer": "ipython3",
   "version": "3.7.0"
  }
 },
 "nbformat": 4,
 "nbformat_minor": 2
}
