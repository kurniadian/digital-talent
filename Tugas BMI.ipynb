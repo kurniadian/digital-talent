{
 "cells": [
  {
   "cell_type": "code",
   "execution_count": null,
   "metadata": {},
   "outputs": [],
   "source": [
    "# kode untuk menghitung BMI"
   ]
  },
  {
   "cell_type": "code",
   "execution_count": 1,
   "metadata": {},
   "outputs": [
    {
     "name": "stdout",
     "output_type": "stream",
     "text": [
      "21.928862769176792\n",
      "normal\n"
     ]
    }
   ],
   "source": [
    "bb=50\n",
    "tinggi_badan=151\n",
    "tb=tinggi_badan/100\n",
    "bmi=bb/(tb**2)\n",
    "print(bmi)\n",
    "\n",
    "if bmi<15:\n",
    "    print(\"very severely underweight\")\n",
    "elif bmi>=15 and bmi<16:\n",
    "    print(\"underweight\")\n",
    "elif bmi>=18.5 and bmi<25:\n",
    "    print(\"normal\")\n",
    "elif bmi>=25 and bmi <30:\n",
    "    print(\"overweight\")\n",
    "elif bmi>=30 and bmi <35:\n",
    "    print(\"moderately obese\")\n",
    "elif bmi >=35 and bmi <40:\n",
    "    print(\"severely obese\")\n",
    "else:\n",
    "    print(\"very severely obese\")"
   ]
  },
  {
   "cell_type": "code",
   "execution_count": null,
   "metadata": {},
   "outputs": [],
   "source": []
  }
 ],
 "metadata": {
  "kernelspec": {
   "display_name": "Python 3",
   "language": "python",
   "name": "python3"
  },
  "language_info": {
   "codemirror_mode": {
    "name": "ipython",
    "version": 3
   },
   "file_extension": ".py",
   "mimetype": "text/x-python",
   "name": "python",
   "nbconvert_exporter": "python",
   "pygments_lexer": "ipython3",
   "version": "3.7.0"
  }
 },
 "nbformat": 4,
 "nbformat_minor": 2
}
