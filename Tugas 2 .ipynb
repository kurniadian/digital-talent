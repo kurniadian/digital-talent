{
 "cells": [
  {
   "cell_type": "markdown",
   "metadata": {},
   "source": [
    "# LATIHAN 2 - Tugas List Nilai\n",
    "Diberikan sekumpulan Nilai Random antara 0 sampai dengan 100 sebanyak 250 nilai. Buatlah program untuk melakukan hal berikut:\n",
    "\n",
    "1. Tampilkan Angka Ganjil dari ke 250 nilai tersebut\n",
    "2. Tampilkan berapa banyak yang mendapatkan nilai lebih dari 70\n",
    "3. Tampilkan standar deviasi dari sekumpulan nilai tersebut\n",
    "4. Tampilkan nilai maksimum dan minimum\n",
    "5. Tampilkan modus dari sekumpulan nilai tersebut"
   ]
  },
  {
   "cell_type": "code",
   "execution_count": 1,
   "metadata": {
    "scrolled": false
   },
   "outputs": [
    {
     "name": "stdout",
     "output_type": "stream",
     "text": [
      "[36, 8, 75, 79, 94, 66, 13, 66, 53, 50, 79, 60, 72, 93, 40, 61, 38, 5, 8, 21, 63, 7, 23, 36, 91, 34, 58, 18, 12, 1, 90, 65, 44, 20, 13, 65, 89, 93, 96, 62, 96, 46, 82, 52, 44, 56, 67, 78, 8, 13, 34, 15, 27, 99, 57, 7, 15, 20, 87, 89, 20, 32, 75, 84, 59, 38, 38, 60, 6, 2, 80, 24, 29, 95, 58, 57, 58, 14, 96, 63, 27, 78, 26, 7, 15, 89, 11, 35, 23, 31, 7, 94, 68, 66, 32, 91, 12, 72, 72, 61, 44, 40, 73, 98, 61, 89, 61, 84, 85, 10, 50, 2, 57, 83, 66, 18, 90, 27, 47, 16, 99, 36, 24, 93, 25, 18, 33, 33, 10, 79, 57, 65, 4, 48, 73, 41, 58, 98, 60, 61, 43, 1, 11, 31, 86, 80, 29, 86, 95, 49, 83, 10, 38, 96, 92, 64, 42, 45, 61, 76, 61, 14, 63, 58, 32, 65, 34, 38, 2, 2, 78, 28, 68, 95, 4, 28, 75, 66, 52, 16, 22, 88, 79, 48, 73, 18, 14, 53, 76, 43, 90, 37, 37, 91, 47, 81, 83, 41, 94, 14, 58, 15, 91, 31, 28, 7, 88, 82, 46, 31, 6, 38, 30, 16, 68, 99, 14, 5, 23, 17, 40, 84, 16, 65, 71, 72, 8, 41, 34, 36, 36, 89, 25, 33, 9, 2, 44, 85, 41, 75, 72, 78, 1, 33, 35, 54, 70, 68, 2, 33]\n"
     ]
    }
   ],
   "source": [
    "import random\n",
    "\n",
    "# GENERATE RANDOM\n",
    "nilaiTugas = []\n",
    "for i in range(250):\n",
    "    nilaiTugas.append(random.randrange(1,100,1))\n",
    "\n",
    "print(nilaiTugas)"
   ]
  },
  {
   "cell_type": "markdown",
   "metadata": {},
   "source": [
    "## 1. Tampilkan angka ganjil dari ke 250 nilai tersebut"
   ]
  },
  {
   "cell_type": "code",
   "execution_count": 2,
   "metadata": {},
   "outputs": [
    {
     "name": "stdout",
     "output_type": "stream",
     "text": [
      "[75, 79, 13, 53, 79, 93, 61, 5, 21, 63, 7, 23, 91, 1, 65, 13, 65, 89, 93, 67, 13, 15, 27, 99, 57, 7, 15, 87, 89, 75, 59, 29, 95, 57, 63, 27, 7, 15, 89, 11, 35, 23, 31, 7, 91, 61, 73, 61, 89, 61, 85, 57, 83, 27, 47, 99, 93, 25, 33, 33, 79, 57, 65, 73, 41, 61, 43, 1, 11, 31, 29, 95, 49, 83, 45, 61, 61, 63, 65, 95, 75, 79, 73, 53, 43, 37, 37, 91, 47, 81, 83, 41, 15, 91, 31, 7, 31, 99, 5, 23, 17, 65, 71, 41, 89, 25, 33, 9, 85, 41, 75, 1, 33, 35, 33]\n"
     ]
    }
   ],
   "source": [
    "AngkaGanjil=[]\n",
    "for n in nilaiTugas:\n",
    "    if n%2 !=0:\n",
    "        AngkaGanjil.append(n)\n",
    "        \n",
    "print(AngkaGanjil)"
   ]
  },
  {
   "cell_type": "markdown",
   "metadata": {},
   "source": [
    "## Tampilkan berapa banyak yang mendapatkan nilai lebih dari 70"
   ]
  },
  {
   "cell_type": "code",
   "execution_count": 15,
   "metadata": {},
   "outputs": [
    {
     "name": "stdout",
     "output_type": "stream",
     "text": [
      "nilai yang lebih dari 70 adalah [75, 79, 94, 79, 72, 93, 91, 90, 89, 93, 96, 96, 82, 78, 99, 87, 89, 75, 84, 80, 95, 96, 78, 89, 94, 91, 72, 72, 73, 98, 89, 84, 85, 83, 90, 99, 93, 79, 73, 98, 86, 80, 86, 95, 83, 96, 92, 76, 78, 95, 75, 88, 79, 73, 76, 90, 91, 81, 83, 94, 91, 88, 82, 99, 84, 71, 72, 89, 85, 75, 72, 78]\n"
     ]
    }
   ],
   "source": [
    "nilaiLebih70 = []\n",
    "for n in nilaiTugas:\n",
    "    if n>70:\n",
    "        nilaiLebih70.append(n)\n",
    "\n",
    "# nilai lebih dari 70\n",
    "print(\"nilai yang lebih dari 70 adalah\", nilaiLebih70)"
   ]
  },
  {
   "cell_type": "markdown",
   "metadata": {},
   "source": [
    "## Tampilkan standar deviasi dari sekumpulan nilai tersebut"
   ]
  },
  {
   "cell_type": "code",
   "execution_count": 22,
   "metadata": {
    "scrolled": true
   },
   "outputs": [
    {
     "name": "stdout",
     "output_type": "stream",
     "text": [
      "standar deviasi= 29.103275185209377\n"
     ]
    }
   ],
   "source": [
    "# menghitung nilai rat-rata\n",
    "total=0\n",
    "for n in nilaiTugas:\n",
    "    total=total+n\n",
    "rata_rata=total/len(nilaiTugas)\n",
    "\n",
    "# menghitung standar deviasi\n",
    "selisih_sum=0\n",
    "for n in nilaiTugas:\n",
    "    x=n-rata_rata\n",
    "    kuadrat=x**2\n",
    "    selisih_sum=selisih_sum+kuadrat\n",
    "    \n",
    "sd=(selisih_sum/(len(nilaiTugas)-1))**(0.5)\n",
    "\n",
    "# menampilkan standar deviasi\n",
    "print(\"standar deviasi=\",sd)"
   ]
  },
  {
   "cell_type": "markdown",
   "metadata": {},
   "source": [
    "## Tampilkan nilai maksimum dan minimum"
   ]
  },
  {
   "cell_type": "code",
   "execution_count": 27,
   "metadata": {},
   "outputs": [
    {
     "name": "stdout",
     "output_type": "stream",
     "text": [
      "nilai maksimum= 99\n",
      "nilai minimum= 1\n"
     ]
    }
   ],
   "source": [
    "nilaiMaksimum=nilaiTugas[0]\n",
    "nilaiMinimum=nilaiTugas[0]\n",
    "\n",
    "for n in nilaiTugas:\n",
    "    if (n>nilaiMaksimum):\n",
    "        nilaiMaksimum=n\n",
    "    if (n<nilaiMinimum):\n",
    "        nilaiMinimum=n\n",
    "        \n",
    "print('nilai maksimum=', nilaiMaksimum)\n",
    "print('nilai minimum=', nilaiMinimum)\n"
   ]
  },
  {
   "cell_type": "markdown",
   "metadata": {},
   "source": [
    "## Tampilkan modus dari sekumpulan nilai tersebut"
   ]
  },
  {
   "cell_type": "code",
   "execution_count": 33,
   "metadata": {},
   "outputs": [
    {
     "name": "stdout",
     "output_type": "stream",
     "text": [
      "modus pada list nilaiTugas adalah 61\n"
     ]
    }
   ],
   "source": [
    "maksimal=0\n",
    "\n",
    "# membuat dict kosong\n",
    "modus={}\n",
    "\n",
    "# menghitung tiap elemen pada list nilaiTugas dan menampilkan jumlahnya dengan format dictionary {key:val}\n",
    "for i in nilaiTugas:\n",
    "    count=nilaiTugas.count(i)\n",
    "    modus.update({i:count})\n",
    "    \n",
    "# membandingkan jumlah tiap elemen\n",
    "for key in modus:\n",
    "    if modus [key]>maksimal:\n",
    "        maksimal=modus[key]\n",
    "        \n",
    "# menampilkan elemen dengan frekuensi terbanyak\n",
    "for key in modus:\n",
    "    if modus[key]==maksimal:\n",
    "        print(\"modus pada list nilaiTugas adalah\", key)"
   ]
  },
  {
   "cell_type": "markdown",
   "metadata": {},
   "source": []
  },
  {
   "cell_type": "code",
   "execution_count": null,
   "metadata": {},
   "outputs": [],
   "source": []
  }
 ],
 "metadata": {
  "kernelspec": {
   "display_name": "Python 3",
   "language": "python",
   "name": "python3"
  },
  "language_info": {
   "codemirror_mode": {
    "name": "ipython",
    "version": 3
   },
   "file_extension": ".py",
   "mimetype": "text/x-python",
   "name": "python",
   "nbconvert_exporter": "python",
   "pygments_lexer": "ipython3",
   "version": "3.7.0"
  }
 },
 "nbformat": 4,
 "nbformat_minor": 2
}
